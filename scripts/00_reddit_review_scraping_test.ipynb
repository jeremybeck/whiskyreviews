{
 "cells": [
  {
   "cell_type": "markdown",
   "metadata": {},
   "source": [
    "# Introduction"
   ]
  },
  {
   "cell_type": "markdown",
   "metadata": {},
   "source": [
    "This notebook will serve as a test for scraping reddit reviews. I have obtained several URLs of reviews from the following site: https://docs.google.com/spreadsheets/d/1X1HTxkI6SqsdpNSkSSivMzpxNT-oeTbjFFDdEkXD30o/edit#gid=695409533\n",
    "I will scrape a set of reviews using the PRAW library. "
   ]
  },
  {
   "cell_type": "code",
   "execution_count": 1,
   "metadata": {},
   "outputs": [
    {
     "name": "stdout",
     "output_type": "stream",
     "text": [
      "Requirement already satisfied: praw in /usr/local/anaconda/lib/python3.6/site-packages (6.1.1)\n",
      "Requirement already satisfied: prawcore<2.0,>=1.0.0 in /usr/local/anaconda/lib/python3.6/site-packages (from praw) (1.0.1)\n",
      "Requirement already satisfied: update-checker>=0.16 in /usr/local/anaconda/lib/python3.6/site-packages (from praw) (0.16)\n",
      "Requirement already satisfied: websocket-client>=0.54.0 in /usr/local/anaconda/lib/python3.6/site-packages (from praw) (0.56.0)\n",
      "Requirement already satisfied: requests<3.0,>=2.6.0 in /usr/local/anaconda/lib/python3.6/site-packages (from prawcore<2.0,>=1.0.0->praw) (2.19.1)\n",
      "Requirement already satisfied: six in /usr/local/anaconda/lib/python3.6/site-packages (from websocket-client>=0.54.0->praw) (1.11.0)\n",
      "Requirement already satisfied: urllib3<1.24,>=1.21.1 in /usr/local/anaconda/lib/python3.6/site-packages (from requests<3.0,>=2.6.0->prawcore<2.0,>=1.0.0->praw) (1.23)\n",
      "Requirement already satisfied: chardet<3.1.0,>=3.0.2 in /usr/local/anaconda/lib/python3.6/site-packages (from requests<3.0,>=2.6.0->prawcore<2.0,>=1.0.0->praw) (3.0.4)\n",
      "Requirement already satisfied: idna<2.8,>=2.5 in /usr/local/anaconda/lib/python3.6/site-packages (from requests<3.0,>=2.6.0->prawcore<2.0,>=1.0.0->praw) (2.7)\n",
      "Requirement already satisfied: certifi>=2017.4.17 in /usr/local/anaconda/lib/python3.6/site-packages (from requests<3.0,>=2.6.0->prawcore<2.0,>=1.0.0->praw) (2018.4.16)\n",
      "\u001b[33mYou are using pip version 18.1, however version 19.1 is available.\n",
      "You should consider upgrading via the 'pip install --upgrade pip' command.\u001b[0m\n"
     ]
    }
   ],
   "source": [
    "# move this to a requirements file\n",
    "!pip install praw"
   ]
  },
  {
   "cell_type": "markdown",
   "metadata": {},
   "source": [
    "## Imports"
   ]
  },
  {
   "cell_type": "code",
   "execution_count": 2,
   "metadata": {},
   "outputs": [],
   "source": [
    "import os\n",
    "import praw"
   ]
  },
  {
   "cell_type": "markdown",
   "metadata": {},
   "source": [
    "## Reddit API Exploration"
   ]
  },
  {
   "cell_type": "markdown",
   "metadata": {},
   "source": [
    "Create a Reddit() connection with PRAW with my OAUTH credentials stored in Domino"
   ]
  },
  {
   "cell_type": "code",
   "execution_count": 4,
   "metadata": {},
   "outputs": [],
   "source": [
    "reddit = praw.Reddit(client_id=os.getenv('reddit_clientid'),\n",
    "                     client_secret=os.getenv('reddit_secret'),\n",
    "                     user_agent='jbeck22')"
   ]
  },
  {
   "cell_type": "markdown",
   "metadata": {},
   "source": [
    "Use a set of sample URLS for Reviews"
   ]
  },
  {
   "cell_type": "code",
   "execution_count": 5,
   "metadata": {},
   "outputs": [],
   "source": [
    "urls = [\n",
    "    'https://www.reddit.com/r/Scotch/comments/14uder/100_pipers_blend_review_10/c7ghjy2/',\n",
    "    'https://www.reddit.com/r/bourbon/comments/67a74d/review_316_mystery_sample/',\n",
    "    'https://www.reddit.com/r/bourbon/comments/2k35c0/review_16_abraham_bowman_cider_finish/',\n",
    "    'https://www.reddit.com/r/worldwhisky/comments/5ablei/adelphi_the_glover_18_review/'\n",
    "]"
   ]
  },
  {
   "cell_type": "code",
   "execution_count": 6,
   "metadata": {},
   "outputs": [],
   "source": [
    "posts = [reddit.submission(url=x) for x in urls]"
   ]
  },
  {
   "cell_type": "code",
   "execution_count": 7,
   "metadata": {},
   "outputs": [
    {
     "name": "stdout",
     "output_type": "stream",
     "text": [
      "My wife and I are on a trip to Thailand to meet her family.  I've seen plenty of whisky here, mostly JW, but this one stood out from the rest.  100 pipers is not something I've seen before and it seems to have quite the following here.  It is a blend at 40% alcohol by volume and 35cl was 220 baht or about $8 Canadian.  I got it more as a novelty as I suspect it is the Thai equivalent of chivas or glenfiddich 12.\n",
      "\n",
      "Colour: caramel, I suspect it is artificially coloured.\n",
      "\n",
      "Nose: (I had some tiger balm on my hands so this may be *way* off) alcohol, little bit of leather and some hints of sweetness.\n",
      "\n",
      "Palate: very bland, I taste almost nothing really, a bit of woody flavour, the promise of leather and sweetness from the nose is gone.\n",
      "\n",
      "Finish: short and devoid of anything but alcohol.\n",
      "\n",
      "This reminds me of a JW red or the cheap rye my Dad drank when I was a kid.  I bought it primarily for the novelty so I don't think it was a waste.  it is just not something I'd seek out again.\n",
      "\n",
      "68/100\n",
      "\n",
      "PS: Yes it is a photo essay of me drinking the scotch.\n",
      "Cool, hope you enjoy Thailand!  I've heard you can get your name on a bottle of whisky in the bars there, perhaps you could look into that just for fun :).\n",
      "I confess to being quite fond of 100 pipers, I find it a pretty solid blend at the price.\n",
      "Pic 1) look at my tiny bottle of scotch!\n",
      "\n",
      "\n",
      "Pic 2) slowly.... slloooooowwwly.....\n",
      "\n",
      "\n",
      "Pic 3) This is gonna be awesome.  \n",
      "\n",
      "\n",
      "Pic 4) nice and easy, gotta enjoy this bitch since there's not much of it.\n",
      "\n",
      "\n",
      "Pic 5) I should have used that money for a hooker.\n",
      "Boy, if I posted pictures of me drinking in my reviews it'd put a whole bunch of people off their drink! Ambience: Fat, bearded, computer desk, in my underwear.\n",
      "More people should do these sort of photosets.\n"
     ]
    }
   ],
   "source": [
    "for top_level_comment in posts[0].comments:\n",
    "    print(top_level_comment.body)"
   ]
  },
  {
   "cell_type": "markdown",
   "metadata": {},
   "source": [
    "## Understanding the PRAW Submission Object"
   ]
  },
  {
   "cell_type": "markdown",
   "metadata": {},
   "source": [
    "I need to do some more work understanding the structure of PRAW Submission feedback.  Some information is available in their quick start (https://praw.readthedocs.io/en/latest/getting_started/quick_start.html#determine-available-attributes-of-an-object) but it may  be easier to dig into the object using the vars() "
   ]
  },
  {
   "cell_type": "code",
   "execution_count": 8,
   "metadata": {},
   "outputs": [],
   "source": [
    "test_post = posts[0]"
   ]
  },
  {
   "cell_type": "code",
   "execution_count": 9,
   "metadata": {},
   "outputs": [
    {
     "data": {
      "text/plain": [
       "{'_reddit': <praw.reddit.Reddit at 0x7f96c04c9e80>,\n",
       " '_fetched': True,\n",
       " '_info_params': {},\n",
       " 'comment_limit': 2048,\n",
       " 'comment_sort': 'best',\n",
       " 'id': '14uder',\n",
       " '_flair': None,\n",
       " '_mod': None,\n",
       " '_comments_by_id': {'t1_c7ghjy2': Comment(id='c7ghjy2'),\n",
       "  't1_c7grqm4': Comment(id='c7grqm4'),\n",
       "  't1_c7grt6y': Comment(id='c7grt6y'),\n",
       "  't1_c7gsa0x': Comment(id='c7gsa0x'),\n",
       "  't1_c7gsale': Comment(id='c7gsale'),\n",
       "  't1_c7vuiso': Comment(id='c7vuiso'),\n",
       "  't1_c7wwrpc': Comment(id='c7wwrpc'),\n",
       "  't1_c7wygrn': Comment(id='c7wygrn'),\n",
       "  't1_c7gyxy8': Comment(id='c7gyxy8'),\n",
       "  't1_c7h88ms': Comment(id='c7h88ms'),\n",
       "  't1_c7gvn73': Comment(id='c7gvn73'),\n",
       "  't1_c7h89g3': Comment(id='c7h89g3'),\n",
       "  't1_c7hc4h0': Comment(id='c7hc4h0'),\n",
       "  't1_c7ghkiw': Comment(id='c7ghkiw'),\n",
       "  't1_c7gipg6': Comment(id='c7gipg6'),\n",
       "  't1_c7j5mlg': Comment(id='c7j5mlg'),\n",
       "  't1_c7gq4x6': Comment(id='c7gq4x6'),\n",
       "  't1_c7grpk5': Comment(id='c7grpk5'),\n",
       "  't1_c7hvru3': Comment(id='c7hvru3'),\n",
       "  't1_c7gr9dt': Comment(id='c7gr9dt'),\n",
       "  't1_c7grp1s': Comment(id='c7grp1s')},\n",
       " 'approved_at_utc': None,\n",
       " 'subreddit': Subreddit(display_name='Scotch'),\n",
       " 'selftext': '',\n",
       " 'user_reports': [],\n",
       " 'saved': False,\n",
       " 'mod_reason_title': None,\n",
       " 'gilded': 0,\n",
       " 'clicked': False,\n",
       " 'title': '100 Pipers Blend Review #10',\n",
       " 'link_flair_richtext': [],\n",
       " 'subreddit_name_prefixed': 'r/Scotch',\n",
       " 'hidden': False,\n",
       " 'pwls': 6,\n",
       " 'link_flair_css_class': 'review',\n",
       " 'downs': 0,\n",
       " 'thumbnail_height': 105,\n",
       " 'parent_whitelist_status': 'all_ads',\n",
       " 'hide_score': False,\n",
       " 'name': 't3_14uder',\n",
       " 'quarantine': False,\n",
       " 'link_flair_text_color': 'dark',\n",
       " 'upvote_ratio': 0.76,\n",
       " 'author_flair_background_color': '',\n",
       " 'subreddit_type': 'public',\n",
       " 'ups': 20,\n",
       " 'domain': 'imgur.com',\n",
       " 'media_embed': {},\n",
       " 'thumbnail_width': 140,\n",
       " 'author_flair_template_id': None,\n",
       " 'is_original_content': False,\n",
       " 'author_fullname': 't2_5mp7f',\n",
       " 'secure_media': None,\n",
       " 'is_reddit_media_domain': False,\n",
       " 'is_meta': False,\n",
       " 'category': None,\n",
       " 'secure_media_embed': {},\n",
       " 'link_flair_text': '',\n",
       " 'can_mod_post': False,\n",
       " 'score': 20,\n",
       " 'approved_by': None,\n",
       " 'thumbnail': 'https://b.thumbs.redditmedia.com/8u9ub9_CRgFLma-H0A-m3xTZeMWOlCv4lCqrwLhffyw.jpg',\n",
       " 'edited': False,\n",
       " 'author_flair_css_class': 'tartan1',\n",
       " 'author_flair_richtext': [],\n",
       " 'gildings': {'gid_1': 0, 'gid_2': 0, 'gid_3': 0},\n",
       " 'post_hint': 'link',\n",
       " 'content_categories': None,\n",
       " 'is_self': False,\n",
       " 'mod_note': None,\n",
       " 'created': 1355495477.0,\n",
       " 'link_flair_type': 'text',\n",
       " 'wls': 6,\n",
       " 'banned_by': None,\n",
       " 'author_flair_type': 'text',\n",
       " 'contest_mode': False,\n",
       " 'selftext_html': None,\n",
       " 'likes': None,\n",
       " 'suggested_sort': None,\n",
       " 'banned_at_utc': None,\n",
       " 'view_count': None,\n",
       " 'archived': True,\n",
       " 'no_follow': False,\n",
       " 'is_crosspostable': False,\n",
       " 'pinned': False,\n",
       " 'over_18': False,\n",
       " 'preview': {'images': [{'source': {'url': 'https://external-preview.redd.it/fOvw6WK0lYs3wNH030jf41tlt6foZFrJdeXPB0AWndA.jpg?auto=webp&s=ff3c317f8d0aaae6f69b5d1b7052d0a1b53c81c2',\n",
       "     'width': 2736,\n",
       "     'height': 2052},\n",
       "    'resolutions': [{'url': 'https://external-preview.redd.it/fOvw6WK0lYs3wNH030jf41tlt6foZFrJdeXPB0AWndA.jpg?width=108&crop=smart&auto=webp&s=c6db9b79d3ebfff19ba836ddf1deaee7a36b6d7f',\n",
       "      'width': 108,\n",
       "      'height': 81},\n",
       "     {'url': 'https://external-preview.redd.it/fOvw6WK0lYs3wNH030jf41tlt6foZFrJdeXPB0AWndA.jpg?width=216&crop=smart&auto=webp&s=844356a97f32d6625399a8a301f84ecbe7cbfd01',\n",
       "      'width': 216,\n",
       "      'height': 162},\n",
       "     {'url': 'https://external-preview.redd.it/fOvw6WK0lYs3wNH030jf41tlt6foZFrJdeXPB0AWndA.jpg?width=320&crop=smart&auto=webp&s=c7b26f051a4430ce2ea9b89e001ea296a3ce18f2',\n",
       "      'width': 320,\n",
       "      'height': 240},\n",
       "     {'url': 'https://external-preview.redd.it/fOvw6WK0lYs3wNH030jf41tlt6foZFrJdeXPB0AWndA.jpg?width=640&crop=smart&auto=webp&s=d2c4fba963d13c53bd506eeeb141841494d95f69',\n",
       "      'width': 640,\n",
       "      'height': 480},\n",
       "     {'url': 'https://external-preview.redd.it/fOvw6WK0lYs3wNH030jf41tlt6foZFrJdeXPB0AWndA.jpg?width=960&crop=smart&auto=webp&s=02ad17ec518efa0a92ebb6b87966206baf5adb54',\n",
       "      'width': 960,\n",
       "      'height': 720},\n",
       "     {'url': 'https://external-preview.redd.it/fOvw6WK0lYs3wNH030jf41tlt6foZFrJdeXPB0AWndA.jpg?width=1080&crop=smart&auto=webp&s=e3609c6e2b20faa00d5b55ef70e3e02ab5e3d596',\n",
       "      'width': 1080,\n",
       "      'height': 810}],\n",
       "    'variants': {},\n",
       "    'id': 'rrzHApfcB23pPOL7OsUvTzkXwrMVFgWtQoxqgQOiFZU'}],\n",
       "  'enabled': False},\n",
       " 'media': None,\n",
       " 'media_only': False,\n",
       " 'can_gild': False,\n",
       " 'spoiler': False,\n",
       " 'locked': False,\n",
       " 'author_flair_text': 'rookie',\n",
       " 'visited': False,\n",
       " 'num_reports': None,\n",
       " 'distinguished': None,\n",
       " 'subreddit_id': 't5_2qq65',\n",
       " 'mod_reason_by': None,\n",
       " 'removal_reason': None,\n",
       " 'link_flair_background_color': '',\n",
       " 'is_robot_indexable': True,\n",
       " 'report_reasons': None,\n",
       " 'author': Redditor(name='merlinblack'),\n",
       " 'num_crossposts': 0,\n",
       " 'num_comments': 21,\n",
       " 'send_replies': True,\n",
       " 'author_patreon_flair': False,\n",
       " 'author_flair_text_color': 'dark',\n",
       " 'permalink': '/r/Scotch/comments/14uder/100_pipers_blend_review_10/',\n",
       " 'whitelist_status': 'all_ads',\n",
       " 'stickied': False,\n",
       " 'url': 'http://imgur.com/a/gDq9h',\n",
       " 'subreddit_subscribers': 83754,\n",
       " 'created_utc': 1355495477.0,\n",
       " 'mod_reports': [],\n",
       " 'is_video': False,\n",
       " '_comments': <praw.models.comment_forest.CommentForest at 0x7f96bfe66fd0>}"
      ]
     },
     "execution_count": 9,
     "metadata": {},
     "output_type": "execute_result"
    }
   ],
   "source": [
    "vars(test_post)"
   ]
  },
  {
   "cell_type": "code",
   "execution_count": 10,
   "metadata": {
    "scrolled": true
   },
   "outputs": [
    {
     "data": {
      "text/plain": [
       "'100 Pipers Blend Review #10'"
      ]
     },
     "execution_count": 10,
     "metadata": {},
     "output_type": "execute_result"
    }
   ],
   "source": [
    "test_post.title"
   ]
  },
  {
   "cell_type": "code",
   "execution_count": 11,
   "metadata": {},
   "outputs": [
    {
     "data": {
      "text/plain": [
       "Redditor(name='merlinblack')"
      ]
     },
     "execution_count": 11,
     "metadata": {},
     "output_type": "execute_result"
    }
   ],
   "source": [
    "test_post.author"
   ]
  },
  {
   "cell_type": "code",
   "execution_count": 12,
   "metadata": {},
   "outputs": [
    {
     "data": {
      "text/plain": [
       "'14uder'"
      ]
     },
     "execution_count": 12,
     "metadata": {},
     "output_type": "execute_result"
    }
   ],
   "source": [
    "test_post.id"
   ]
  },
  {
   "cell_type": "code",
   "execution_count": 13,
   "metadata": {},
   "outputs": [
    {
     "data": {
      "text/plain": [
       "'http://imgur.com/a/gDq9h'"
      ]
     },
     "execution_count": 13,
     "metadata": {},
     "output_type": "execute_result"
    }
   ],
   "source": [
    "test_post.url"
   ]
  },
  {
   "cell_type": "markdown",
   "metadata": {},
   "source": [
    "### Sort Comments in Posts"
   ]
  },
  {
   "cell_type": "code",
   "execution_count": 14,
   "metadata": {},
   "outputs": [],
   "source": [
    "for post in posts:\n",
    "    post.comment_sort = 'old'"
   ]
  },
  {
   "cell_type": "code",
   "execution_count": 15,
   "metadata": {},
   "outputs": [],
   "source": [
    "first_comments = [list(x.comments)[0].body for x in posts]"
   ]
  },
  {
   "cell_type": "code",
   "execution_count": 16,
   "metadata": {},
   "outputs": [
    {
     "data": {
      "text/plain": [
       "'Amazeballs.'"
      ]
     },
     "execution_count": 16,
     "metadata": {},
     "output_type": "execute_result"
    }
   ],
   "source": [
    "first_comments[1]"
   ]
  },
  {
   "cell_type": "markdown",
   "metadata": {},
   "source": [
    "So we can see here that sometimes the first comment is not the actual review.  If you follow the first URL you see the review as the 'body' of the post. Let's look at that post specifically."
   ]
  },
  {
   "cell_type": "code",
   "execution_count": 17,
   "metadata": {},
   "outputs": [],
   "source": [
    "bad_post = posts[1]"
   ]
  },
  {
   "cell_type": "code",
   "execution_count": 18,
   "metadata": {
    "scrolled": false
   },
   "outputs": [
    {
     "data": {
      "text/plain": [
       "{'_reddit': <praw.reddit.Reddit at 0x7f96c04c9e80>,\n",
       " '_fetched': True,\n",
       " '_info_params': {},\n",
       " 'comment_limit': 2048,\n",
       " 'comment_sort': 'old',\n",
       " 'id': '67a74d',\n",
       " '_flair': None,\n",
       " '_mod': None,\n",
       " '_comments_by_id': {'t1_dgotucx': Comment(id='dgotucx'),\n",
       "  't1_dgov0ul': Comment(id='dgov0ul'),\n",
       "  't1_dgovmzx': Comment(id='dgovmzx'),\n",
       "  't1_dgovwi5': Comment(id='dgovwi5'),\n",
       "  't1_dgow5ez': Comment(id='dgow5ez'),\n",
       "  't1_dgp3bs5': Comment(id='dgp3bs5'),\n",
       "  't1_dgp4ls3': Comment(id='dgp4ls3'),\n",
       "  't1_dgp4oji': Comment(id='dgp4oji'),\n",
       "  't1_dgp0fzf': Comment(id='dgp0fzf'),\n",
       "  't1_dgp13mq': Comment(id='dgp13mq')},\n",
       " 'approved_at_utc': None,\n",
       " 'subreddit': Subreddit(display_name='bourbon'),\n",
       " 'selftext': \"Mystery Sample picked and poured by myself(requested by TXLevi). Tasting notes messaged to /u/TXLevi for reveal.  \\n             \\n&nbsp;   \\n\\n**Color** :   \\n                                                               \\n**Nose** : Strawberries, cherries, rich oak, dark caramel & spicy notes of clove.              \\n  \\n**Taste** : A very dark/dense palate. Heavily toasted oak char, dark bitter chocolate, wet copper, cherry concentrate, prune juice, brandy, maple syrup, rich caramel, ripe cherries & spearmint.                      \\n        \\n**Finish** : For being so heavy/powerful it isn't over-whelming.  Mouth-feel is big, bold & rich with bursting flavors. The slight harshness works well with the profile, just an over-all bruiser and I was in the right mood for it!                    \\n  \\n&nbsp;  \\n\\n\\n**Guess** : 125-130 proof, 18-20 Years, Willett C?             \\n \\n**Reveal** : [1792 Full Proof Poison Girl 8 Year 10 Month 125 Proof](/spoiler)    \\n\\n**Conclusion** : hehehe **4/5**  \",\n",
       " 'user_reports': [],\n",
       " 'saved': False,\n",
       " 'mod_reason_title': None,\n",
       " 'gilded': 0,\n",
       " 'clicked': False,\n",
       " 'title': 'Review #316 Mystery Sample',\n",
       " 'link_flair_richtext': [],\n",
       " 'subreddit_name_prefixed': 'r/bourbon',\n",
       " 'hidden': False,\n",
       " 'pwls': 6,\n",
       " 'link_flair_css_class': None,\n",
       " 'downs': 0,\n",
       " 'thumbnail_height': None,\n",
       " 'parent_whitelist_status': 'all_ads',\n",
       " 'hide_score': False,\n",
       " 'name': 't3_67a74d',\n",
       " 'quarantine': False,\n",
       " 'link_flair_text_color': 'dark',\n",
       " 'upvote_ratio': 0.85,\n",
       " 'author_flair_background_color': '',\n",
       " 'subreddit_type': 'public',\n",
       " 'ups': 24,\n",
       " 'domain': 'self.bourbon',\n",
       " 'media_embed': {},\n",
       " 'thumbnail_width': None,\n",
       " 'author_flair_template_id': None,\n",
       " 'is_original_content': False,\n",
       " 'author_fullname': 't2_p0yky',\n",
       " 'secure_media': None,\n",
       " 'is_reddit_media_domain': False,\n",
       " 'is_meta': False,\n",
       " 'category': None,\n",
       " 'secure_media_embed': {},\n",
       " 'link_flair_text': None,\n",
       " 'can_mod_post': False,\n",
       " 'score': 24,\n",
       " 'approved_by': None,\n",
       " 'thumbnail': 'self',\n",
       " 'edited': 1493060866.0,\n",
       " 'author_flair_css_class': 'flag250',\n",
       " 'author_flair_richtext': [],\n",
       " 'gildings': {'gid_1': 0, 'gid_2': 0, 'gid_3': 0},\n",
       " 'content_categories': None,\n",
       " 'is_self': True,\n",
       " 'mod_note': None,\n",
       " 'created': 1493051873.0,\n",
       " 'link_flair_type': 'text',\n",
       " 'wls': 6,\n",
       " 'banned_by': None,\n",
       " 'author_flair_type': 'text',\n",
       " 'contest_mode': False,\n",
       " 'selftext_html': '<!-- SC_OFF --><div class=\"md\"><p>Mystery Sample picked and poured by myself(requested by TXLevi). Tasting notes messaged to <a href=\"/u/TXLevi\">/u/TXLevi</a> for reveal.  </p>\\n\\n<p>&nbsp;   </p>\\n\\n<p><strong>Color</strong> :   </p>\\n\\n<p><strong>Nose</strong> : Strawberries, cherries, rich oak, dark caramel &amp; spicy notes of clove.              </p>\\n\\n<p><strong>Taste</strong> : A very dark/dense palate. Heavily toasted oak char, dark bitter chocolate, wet copper, cherry concentrate, prune juice, brandy, maple syrup, rich caramel, ripe cherries &amp; spearmint.                      </p>\\n\\n<p><strong>Finish</strong> : For being so heavy/powerful it isn&#39;t over-whelming.  Mouth-feel is big, bold &amp; rich with bursting flavors. The slight harshness works well with the profile, just an over-all bruiser and I was in the right mood for it!                    </p>\\n\\n<p>&nbsp;  </p>\\n\\n<p><strong>Guess</strong> : 125-130 proof, 18-20 Years, Willett C?             </p>\\n\\n<p><strong>Reveal</strong> : <a href=\"/spoiler\">1792 Full Proof Poison Girl 8 Year 10 Month 125 Proof</a>    </p>\\n\\n<p><strong>Conclusion</strong> : hehehe <strong>4/5</strong>  </p>\\n</div><!-- SC_ON -->',\n",
       " 'likes': None,\n",
       " 'suggested_sort': None,\n",
       " 'banned_at_utc': None,\n",
       " 'view_count': None,\n",
       " 'archived': True,\n",
       " 'no_follow': False,\n",
       " 'is_crosspostable': False,\n",
       " 'pinned': False,\n",
       " 'over_18': False,\n",
       " 'media': None,\n",
       " 'media_only': False,\n",
       " 'can_gild': False,\n",
       " 'spoiler': False,\n",
       " 'locked': False,\n",
       " 'author_flair_text': 'E.B.R.A 15 Year',\n",
       " 'visited': False,\n",
       " 'num_reports': None,\n",
       " 'distinguished': None,\n",
       " 'subreddit_id': 't5_2rgos',\n",
       " 'mod_reason_by': None,\n",
       " 'removal_reason': None,\n",
       " 'link_flair_background_color': '',\n",
       " 'is_robot_indexable': True,\n",
       " 'report_reasons': None,\n",
       " 'author': Redditor(name='I_SAID_NO_GOLDFISH'),\n",
       " 'num_crossposts': 0,\n",
       " 'num_comments': 9,\n",
       " 'send_replies': True,\n",
       " 'author_patreon_flair': False,\n",
       " 'author_flair_text_color': 'dark',\n",
       " 'permalink': '/r/bourbon/comments/67a74d/review_316_mystery_sample/',\n",
       " 'whitelist_status': 'all_ads',\n",
       " 'stickied': False,\n",
       " 'url': 'https://www.reddit.com/r/bourbon/comments/67a74d/review_316_mystery_sample/',\n",
       " 'subreddit_subscribers': 84650,\n",
       " 'created_utc': 1493051873.0,\n",
       " 'mod_reports': [],\n",
       " 'is_video': False,\n",
       " '_comments': <praw.models.comment_forest.CommentForest at 0x7f96bfe66828>}"
      ]
     },
     "execution_count": 18,
     "metadata": {},
     "output_type": "execute_result"
    }
   ],
   "source": [
    "vars(bad_post)"
   ]
  },
  {
   "cell_type": "markdown",
   "metadata": {},
   "source": [
    "It looks like the review is actually contained in the 'selftext' field."
   ]
  },
  {
   "cell_type": "code",
   "execution_count": 19,
   "metadata": {},
   "outputs": [
    {
     "data": {
      "text/plain": [
       "\"Mystery Sample picked and poured by myself(requested by TXLevi). Tasting notes messaged to /u/TXLevi for reveal.  \\n             \\n&nbsp;   \\n\\n**Color** :   \\n                                                               \\n**Nose** : Strawberries, cherries, rich oak, dark caramel & spicy notes of clove.              \\n  \\n**Taste** : A very dark/dense palate. Heavily toasted oak char, dark bitter chocolate, wet copper, cherry concentrate, prune juice, brandy, maple syrup, rich caramel, ripe cherries & spearmint.                      \\n        \\n**Finish** : For being so heavy/powerful it isn't over-whelming.  Mouth-feel is big, bold & rich with bursting flavors. The slight harshness works well with the profile, just an over-all bruiser and I was in the right mood for it!                    \\n  \\n&nbsp;  \\n\\n\\n**Guess** : 125-130 proof, 18-20 Years, Willett C?             \\n \\n**Reveal** : [1792 Full Proof Poison Girl 8 Year 10 Month 125 Proof](/spoiler)    \\n\\n**Conclusion** : hehehe **4/5**  \""
      ]
     },
     "execution_count": 19,
     "metadata": {},
     "output_type": "execute_result"
    }
   ],
   "source": [
    "bad_post.selftext"
   ]
  },
  {
   "cell_type": "markdown",
   "metadata": {},
   "source": [
    "So, there is some parsing we will have to do to pull the posts and store them off based on whether they are stored in selftext or the first comment.  However, the basics are all working, and it looks like we can collect some data!"
   ]
  },
  {
   "cell_type": "code",
   "execution_count": null,
   "metadata": {},
   "outputs": [],
   "source": []
  }
 ],
 "metadata": {
  "kernelspec": {
   "display_name": "Python 3",
   "language": "python",
   "name": "python3"
  },
  "language_info": {
   "codemirror_mode": {
    "name": "ipython",
    "version": 3
   },
   "file_extension": ".py",
   "mimetype": "text/x-python",
   "name": "python",
   "nbconvert_exporter": "python",
   "pygments_lexer": "ipython3",
   "version": "3.6.6"
  }
 },
 "nbformat": 4,
 "nbformat_minor": 2
}
